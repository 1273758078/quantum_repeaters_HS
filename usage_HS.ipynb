{
 "cells": [
  {
   "cell_type": "code",
   "execution_count": 1,
   "metadata": {},
   "outputs": [],
   "source": [
    "import numpy as np\n",
    "import networkx as nx\n",
    "import json\n",
    "\n",
    "import tqdm as tqdm\n",
    "\n",
    "from simplequantnetsim.protocols import MPC_protocol, MPG_protocol, SP_protocol\n",
    "from simplequantnetsim.graph import network, set_edge_length, update_graph_params, reset_graph_state, reset_graph_usage, remove_nodes, set_p_edge\n",
    "from simplequantnetsim.graph_manager import load_from_file\n",
    "\n",
    "import matplotlib.pyplot as plt\n",
    "from matplotlib.ticker import FormatStrFormatter\n",
    "from networkx.drawing.layout import *\n",
    "from networkx.readwrite import json_graph"
   ]
  },
  {
   "cell_type": "markdown",
   "metadata": {},
   "source": [
    "# Helpers"
   ]
  },
  {
   "cell_type": "markdown",
   "metadata": {},
   "source": [
    "## Draw network"
   ]
  },
  {
   "cell_type": "code",
   "execution_count": 2,
   "metadata": {},
   "outputs": [],
   "source": [
    "# def read_network(file_path, encoding='utf-8'):\n",
    "#     G = nx.Graph()\n",
    "#     with open(file_path, 'r', encoding=encoding) as f:\n",
    "#         lines = f.readlines()[1:]  # Skip header line\n",
    "#         for line in lines:\n",
    "#             parts = line.strip().split()\n",
    "#             origen = int(parts[0])\n",
    "#             destino = int(parts[1])\n",
    "#             distancia = float(parts[2])\n",
    "#             MTBF = float(parts[3])\n",
    "#             MTTR = float(parts[4])\n",
    "#             G.add_edge(origen, destino, distancia=distancia, MTBF=MTBF, MTTR=MTTR)\n",
    "#     return G\n",
    "\n",
    "# def draw_network(G, size=\"l\"):\n",
    "#     usage = nx.get_node_attributes(G, \"usage_fraction\")\n",
    "    \n",
    "#     # If there are no usage_fraction attributes, create dummy ones for visualization\n",
    "#     if not usage:\n",
    "#         for node in G.nodes():\n",
    "#             G.nodes[node][\"usage_fraction\"] = 0.5  # You can adjust this value as needed\n",
    "#         usage = nx.get_node_attributes(G, \"usage_fraction\")\n",
    "    \n",
    "#     pos = nx.spring_layout(G)  # Using spring layout for better visualization\n",
    "\n",
    "#     cmap = plt.cm.Blues\n",
    "#     cmap.set_under(color=\"white\")  # Display zero fraction (under 0.0000001) as white\n",
    "\n",
    "#     nc = nx.draw(\n",
    "#         G,\n",
    "#         pos=pos,\n",
    "#         with_labels=draw_options[size][\"with_labels\"],\n",
    "#         node_size=draw_options[size][\"node_size\"],\n",
    "#         font_size=draw_options[size][\"font_size\"],\n",
    "#         node_color=list(usage.values()),\n",
    "#         vmin=0.0000001,\n",
    "#         cmap=cmap,\n",
    "#     )\n",
    "\n",
    "#     # Colorbar\n",
    "#     ax = plt.gca()\n",
    "#     PCM = ax.get_children()[0]\n",
    "#     cbar = plt.colorbar(PCM, ax=ax)\n",
    "#     cbar.set_label(\"Usage fraction (/rep)\", rotation=270, fontsize=12, labelpad=15)\n",
    "\n",
    "#     # Usage labels\n",
    "#     pos_usage = {}\n",
    "#     for node, coords in pos.items():\n",
    "#         pos_usage[node] = (coords[0] + draw_options[size][\"label_offset\"], coords[1] - draw_options[size][\"label_offset\"])\n",
    "\n",
    "#     rounded_usage = {}\n",
    "#     for node, attr in usage.items():\n",
    "#         rounded_usage[node] = round(attr, 2)\n",
    "\n",
    "#     nx.draw_networkx_labels(G, pos_usage, labels=rounded_usage, font_size=draw_options[size][\"label_size\"])\n",
    "\n",
    "# # Define drawing options\n",
    "# draw_options = {\n",
    "#     \"l\": {\n",
    "#         \"with_labels\": True,\n",
    "#         \"node_size\": 1000,\n",
    "#         \"font_size\": 10,\n",
    "#         \"label_offset\": 0.25,\n",
    "#         \"label_size\": 8\n",
    "#     }, # 5x5\n",
    "#     \"m\": {\n",
    "#         \"with_labels\": True,\n",
    "#         \"node_size\": 500,\n",
    "#         \"font_size\": 8,\n",
    "#         \"label_offset\": 0.1,\n",
    "#         \"label_size\": 6\n",
    "#     }, # 9x9\n",
    "#     \"s\": {\n",
    "#         \"with_labels\": False,\n",
    "#         \"node_size\": 250,\n",
    "#         \"font_size\": 0,\n",
    "#         \"label_offset\": 0,\n",
    "#         \"label_size\": 6\n",
    "#     }, # 15x15\n",
    "#     \"xs\": {\n",
    "#         \"with_labels\": False,\n",
    "#         \"node_size\": 80,\n",
    "#         \"font_size\": 0,        \n",
    "#         \"label_offset\": 0,        \n",
    "#         \"label_size\": 4\n",
    "#     } # 25x25\n",
    "# }\n",
    "\n",
    "# # Read file paths\n",
    "# files = {\n",
    "#     # \"ARPAnet\": \"graphs/ARPAnet_distancia_MTBF_MTTR.txt\",\n",
    "#     # \"EON\": \"graphs/EON_distancia_MTBF_MTTR.txt\",\n",
    "#     \"Eurocore\": \"graphs/Eurocore.txt\",\n",
    "#     # \"NSFnet\": \"graphs/NSFnet.txt\",\n",
    "#     # \"UKnet\": \"graphs/UKnet.txt\",\n",
    "#     # \"USnet\": \"graphs/USnet.txt\"\n",
    "# }\n",
    "\n",
    "# # Try different encodings to read files and draw network\n",
    "# encodings = ['utf-8', 'latin-1', 'ISO-8859-1']\n",
    "# for name, file_path in files.items():\n",
    "#     for encoding in encodings:\n",
    "#         try:\n",
    "#             G = read_network(file_path, encoding=encoding)\n",
    "#             print(f\"Drawing network for {name} using encoding {encoding}\")\n",
    "#             draw_network(G, size=\"m\")\n",
    "#             break  # Successfully read, break the loop\n",
    "#         except UnicodeDecodeError:\n",
    "#             print(f\"Failed to read {name} with encoding {encoding}\")\n"
   ]
  },
  {
   "cell_type": "code",
   "execution_count": 3,
   "metadata": {},
   "outputs": [],
   "source": [
    "import networkx as nx\n",
    "import matplotlib.pyplot as plt\n",
    "\n",
    "def read_network(file_path, encoding='utf-8'):\n",
    "    G = nx.Graph()\n",
    "    with open(file_path, 'r', encoding=encoding) as f:\n",
    "        lines = f.readlines()[1:]  # Skip header line\n",
    "        for line in lines:\n",
    "            parts = line.strip().split()\n",
    "            origen = int(parts[0])\n",
    "            destino = int(parts[1])\n",
    "            distancia = float(parts[2])\n",
    "            MTBF = float(parts[3])\n",
    "            MTTR = float(parts[4])\n",
    "            G.add_edge(origen, destino, distancia=distancia, MTBF=MTBF, MTTR=MTTR)\n",
    "    return G\n",
    "\n",
    "def draw_network(G, size=\"l\", layout=None):\n",
    "    usage = nx.get_node_attributes(G, \"usage_fraction\")\n",
    "    \n",
    "    if not usage:\n",
    "        for node in G.nodes():\n",
    "            G.nodes[node][\"usage_fraction\"] = 0.5  # You can adjust this value as needed\n",
    "        usage = nx.get_node_attributes(G, \"usage_fraction\")\n",
    "    \n",
    "    cmap = plt.cm.Blues\n",
    "    cmap.set_under(color=\"white\")  # Display zero fraction (under 0.0000001) as white\n",
    "\n",
    "    # 使用传入的布局绘制网络\n",
    "    nc = nx.draw(\n",
    "        G,\n",
    "        pos=layout,\n",
    "        with_labels=draw_options[size][\"with_labels\"],\n",
    "        node_size=draw_options[size][\"node_size\"],\n",
    "        font_size=draw_options[size][\"font_size\"],\n",
    "        node_color=list(usage.values()),\n",
    "        vmin=0.0000001,\n",
    "        cmap=cmap,\n",
    "    )\n",
    "\n",
    "    ax = plt.gca()\n",
    "    PCM = ax.get_children()[0]\n",
    "    cbar = plt.colorbar(PCM, ax=ax)\n",
    "    cbar.set_label(\"Usage fraction (/rep)\", rotation=270, fontsize=12, labelpad=15)\n",
    "\n",
    "    pos_usage = {}\n",
    "    for node, coords in layout.items():\n",
    "        pos_usage[node] = (coords[0] + draw_options[size][\"label_offset\"], coords[1] - draw_options[size][\"label_offset\"])\n",
    "\n",
    "    rounded_usage = {}\n",
    "    for node, attr in usage.items():\n",
    "        rounded_usage[node] = round(attr, 2)\n",
    "\n",
    "    nx.draw_networkx_labels(G, pos_usage, labels=rounded_usage, font_size=draw_options[size][\"label_size\"])\n",
    "\n",
    "draw_options = {\n",
    "    \"l\": {\n",
    "        \"with_labels\": True,\n",
    "        \"node_size\": 1000,\n",
    "        \"font_size\": 10,\n",
    "        \"label_offset\": 0.25,\n",
    "        \"label_size\": 8\n",
    "    },\n",
    "    \"m\": {\n",
    "        \"with_labels\": True,\n",
    "        \"node_size\": 300,\n",
    "        \"font_size\": 8,\n",
    "        \"label_offset\": 0.05,\n",
    "        \"label_size\": 6\n",
    "    },\n",
    "    \"s\": {\n",
    "        \"with_labels\": False,\n",
    "        \"node_size\": 250,\n",
    "        \"font_size\": 0,\n",
    "        \"label_offset\": 0,\n",
    "        \"label_size\": 6\n",
    "    },\n",
    "    \"xs\": {\n",
    "        \"with_labels\": False,\n",
    "        \"node_size\": 80,\n",
    "        \"font_size\": 0,        \n",
    "        \"label_offset\": 0,        \n",
    "        \"label_size\": 4\n",
    "    }\n",
    "}"
   ]
  },
  {
   "cell_type": "markdown",
   "metadata": {},
   "source": [
    "## Plot ER v min usage"
   ]
  },
  {
   "cell_type": "code",
   "execution_count": 4,
   "metadata": {},
   "outputs": [],
   "source": [
    "def plot_removed_repeaters(min_usage_range, ER_range, repeaters_removed, base_ER):\n",
    "    fontsize = 12\n",
    "    plt.figure(figsize=(10, 6), dpi=600)\n",
    "    plt.grid(linewidth=0.5)\n",
    "\n",
    "    ax = plt.gca()\n",
    "    sc = ax.scatter(min_usage_range, ER_range, c=repeaters_removed, marker=\"x\", s=40)\n",
    "\n",
    "    plt.tick_params(labelsize=fontsize)\n",
    "    plt.xlabel(\"Minimum usage fraction (/rep)\", fontsize=fontsize)\n",
    "    plt.ylabel(\"DR ($\\mathregular{GHZ}_5/\\ \\\\mathregular{T_{slot}}$)\", fontsize=fontsize)\n",
    "\n",
    "    for i, txt in enumerate(repeaters_removed):\n",
    "        ax.annotate(\n",
    "            txt,\n",
    "            xy=(min_usage_range[i], ER_range[i]),\n",
    "            xycoords=\"data\",\n",
    "            xytext=(3, -6),\n",
    "            textcoords=\"offset points\",\n",
    "            fontsize=6,\n",
    "            weight='bold'\n",
    "        )\n",
    "\n",
    "    # plot original ER\n",
    "    plt.axhline(\n",
    "        y=base_ER,\n",
    "        color=\"black\",\n",
    "        linestyle=\"--\",\n",
    "        linewidth=\"1\",\n",
    "        label=\"Base ER\",\n",
    "    )\n",
    "    plt.legend(fontsize=10)\n",
    "\n",
    "    cbar = plt.colorbar(sc)\n",
    "    cbar.set_label(\n",
    "        \"No. repeaters removed\", rotation=270, fontsize=12, labelpad=15\n",
    "    )"
   ]
  },
  {
   "cell_type": "markdown",
   "metadata": {},
   "source": [
    "## Plot ER v Operation"
   ]
  },
  {
   "cell_type": "code",
   "execution_count": 5,
   "metadata": {},
   "outputs": [],
   "source": [
    "def plot_er_p_op(repeaters_removed_list, ER_list, loss_dB, p_op, x_lim=1):\n",
    "    fontsize = 12\n",
    "    cols = [\"gray\", \"g\", \"b\", \"orange\", \"r\", \"k\", \"purple\"] + [\"k\"] * 100\n",
    "\n",
    "    plt.figure(figsize=(8, 6), dpi=600)\n",
    "    plt.grid(linewidth=0.5)\n",
    "    \n",
    "    for i in range(len(repeaters_removed_list)):\n",
    "        y = plt.plot(\n",
    "            p_op,\n",
    "            ER_list[i],\n",
    "            color=cols[i],\n",
    "            marker=\"x\",\n",
    "            linestyle=\"None\",\n",
    "            markersize=3,\n",
    "            label=repeaters_removed_list[i],\n",
    "        )\n",
    "    plt.yscale(\"log\")\n",
    "    plt.legend(fontsize=10, title=\"No. repeaters removed\", title_fontsize=8)\n",
    "\n",
    "    plt.tick_params(labelsize=fontsize)\n",
    "\n",
    "    plt.xlabel(\"Perfect operations probability $p_{op}$\", fontsize=fontsize)\n",
    "    plt.ylabel(\"DR ($\\mathregular{GHZ}_5/\\ \\\\mathregular{T_{slot}}$)\", fontsize=fontsize)\n",
    "\n",
    "    ax = plt.gca()\n",
    "    # l_ticks = ax.get_xticks()\n",
    "    ax.set_xlim([0, x_lim])\n",
    "    ax.set_ylim([0.0001, 1])\n",
    "\n",
    "    # length2p_ph = lambda l: 10 ** -(loss_dB * l / 10)\n",
    "    # p_ph2length = lambda p: -(np.log10(p) * 10) / loss_dB\n",
    "    # ax2 = ax.secondary_xaxis(-0.15, functions=(length2p_ph, p_ph2length))\n",
    "    # ax2.set_xlabel(\"Photon transmission probability $p_{ph}$\", fontsize=fontsize)\n",
    "    # p_ph_ticks = length2p_ph(l_ticks)\n",
    "    # ax2.set_xticks(p_ph_ticks)\n",
    "    # ax2.xaxis.set_major_formatter(FormatStrFormatter(\"%.2f\"))\n",
    "    # ax2.xaxis.set_tick_params(labelsize=fontsize)\n",
    "\n",
    "    # length2p_e = lambda l: length2p_ph(l) * p_op\n",
    "    # p_e2length = lambda p: p_ph2length(p / p_op)\n",
    "    # ax3 = ax.secondary_xaxis(-0.3, functions=(length2p_e, p_e2length))\n",
    "    # ax3.set_xlabel(\"Entanglement link generation probability $p_e$\", fontsize=fontsize)\n",
    "    # p_e_ticks = length2p_e(l_ticks)\n",
    "    # ax3.set_xticks(p_e_ticks)\n",
    "    # ax3.xaxis.set_major_formatter(FormatStrFormatter(\"%.2f\"))\n",
    "    # ax3.xaxis.set_tick_params(labelsize=fontsize)"
   ]
  },
  {
   "cell_type": "markdown",
   "metadata": {},
   "source": [
    "## Save and load data"
   ]
  },
  {
   "cell_type": "code",
   "execution_count": 6,
   "metadata": {},
   "outputs": [],
   "source": [
    "def save_data(filename, data):\n",
    "    with open(\"data_HS/\" + filename + \".json\", \"w\") as file:\n",
    "        file.write(json.dumps(data))\n",
    "\n",
    "def load_data(filename):\n",
    "    with open(\"data_HS/\" + filename + \".json\", \"r\") as file:\n",
    "        return json.loads(file.read())"
   ]
  },
  {
   "cell_type": "markdown",
   "metadata": {},
   "source": [
    "# Usage"
   ]
  },
  {
   "cell_type": "code",
   "execution_count": 53,
   "metadata": {},
   "outputs": [],
   "source": [
    "Mesh_topologies = \"NSFnet.txt\" # \"ARPAnet_distancia_MTBF_MTTR.txt\", \"EON_distancia_MTBF_MTTR.txt\", \"Eurocore.txt\", \"NSFnet.txt\". \"UKnet.txt\". \"USnet.txt\"\n",
    "timesteps = 5000\n",
    "reps = 1000\n",
    "Q_c = 10\n",
    "# Q_c = 100000\n",
    "p_op = 1\n",
    "loss_dB = 0.2\n",
    "protocol = SP_protocol# MPC_protocol, MPG_protocol, SP_protocol\n",
    "\n",
    "H = load_from_file(Mesh_topologies)\n",
    "# users = [\n",
    "#     '8',\n",
    "#     '18',\n",
    "#     '4',\n",
    "#     '11',\n",
    "#     '17',\n",
    "# ]  # UK\n",
    "\n",
    "# users = [\n",
    "#     \"8\",\n",
    "#     \"15\",\n",
    "#     \"19\",\n",
    "#     \"1\",\n",
    "#     \"2\",\n",
    "# ] # ARPA\n",
    "\n",
    "# users = [\n",
    "#     \"14\",\n",
    "#     \"0\",\n",
    "#     \"7\",\n",
    "#     \"1\",\n",
    "#     \"18\",\n",
    "# ] # EON\n",
    "\n",
    "# users = [\n",
    "#     \"1\",\n",
    "#     \"0\",\n",
    "#     \"5\",\n",
    "#     \"2\",\n",
    "#     \"3\",\n",
    "# ] # Euro\n",
    "\n",
    "users = [\n",
    "    \"5\",\n",
    "    \"1\",\n",
    "    \"10\",\n",
    "    \"9\",\n",
    "    \"6\",\n",
    "] # NSF\n",
    "\n",
    "# users = [\n",
    "#     \"22\",\n",
    "#     \"44\",\n",
    "#     \"42\",\n",
    "#     \"0\",\n",
    "#     \"43\",\n",
    "# ] # US\n",
    "update_graph_params(H, Qc=Q_c)\n",
    "\n",
    "set_p_edge(H, p_op, loss_dB)\n",
    "er, multipartite_gen_time, links_used = protocol(H, users, timesteps, reps, count_fusion=False)"
   ]
  },
  {
   "cell_type": "markdown",
   "metadata": {},
   "source": [
    "## Draw network"
   ]
  },
  {
   "cell_type": "code",
   "execution_count": null,
   "metadata": {},
   "outputs": [],
   "source": [
    "nodes = H.nodes(data=True)\n",
    "\n",
    "print(nodes)\n",
    "usage = nx.get_node_attributes(H, \"usage_fraction\")\n",
    "print(list(usage.values()))"
   ]
  },
  {
   "cell_type": "code",
   "execution_count": null,
   "metadata": {},
   "outputs": [],
   "source": [
    "draw_network(H, \"m\")\n",
    "# plt.savefig(\"figures_HS/usage_US_SP_p_op_1_new.png\", dpi=600, bbox_inches=\"tight\")"
   ]
  },
  {
   "cell_type": "markdown",
   "metadata": {},
   "source": [
    "## Save data"
   ]
  },
  {
   "cell_type": "code",
   "execution_count": 54,
   "metadata": {},
   "outputs": [],
   "source": [
    "data_to_save = {\n",
    "    \"protocol\": str(protocol).split(\" \")[1],\n",
    "    \"Mesh_topologies\": Mesh_topologies,\n",
    "    \"Q_c\": Q_c,\n",
    "    \"p_op\": p_op,\n",
    "    \"loss_dB\": loss_dB,\n",
    "    \"timesteps\": timesteps,\n",
    "    \"reps\": reps,\n",
    "    \"users\": users,\n",
    "    \"ER\": er,\n",
    "    \"links_used\": links_used,\n",
    "    \"network_data\": json_graph.node_link_data(H),\n",
    "}\n",
    "\n",
    "save_data(\"usage/method_reps/NSF/SP_Q10\", data_to_save)##########################################"
   ]
  },
  {
   "cell_type": "markdown",
   "metadata": {},
   "source": [
    "## Load and plot data"
   ]
  },
  {
   "cell_type": "code",
   "execution_count": 103,
   "metadata": {},
   "outputs": [],
   "source": [
    "file_to_open = \"usage/method_reps/NSF/SP_Q10\"########################################################\n",
    "\n",
    "with open(\"data_HS/\" + file_to_open + \".json\", \"r\") as file:\n",
    "    loaded_data = json.loads(file.read())\n",
    "\n",
    "H_loaded = json_graph.node_link_graph(loaded_data[\"network_data\"])"
   ]
  },
  {
   "cell_type": "code",
   "execution_count": 104,
   "metadata": {},
   "outputs": [
    {
     "data": {
      "image/png": "[encoded data removed]",
      "text/plain": [
       "<Figure size 640x480 with 2 Axes>"
      ]
     },
     "metadata": {},
     "output_type": "display_data"
    }
   ],
   "source": [
    "saved_layout = nx.spring_layout(H_loaded, seed = 14)############################################\n",
    "draw_network(H_loaded, \"m\", layout=saved_layout)\n",
    "plt.savefig(\"figures_HS/Impact of Q_c/usage_NSF_SP_Q10.png\", dpi=600, bbox_inches=\"tight\")###############################"
   ]
  },
  {
   "cell_type": "markdown",
   "metadata": {},
   "source": [
    "# Removing Repeaters"
   ]
  },
  {
   "cell_type": "markdown",
   "metadata": {},
   "source": [
    "## Individual cases"
   ]
  },
  {
   "cell_type": "code",
   "execution_count": null,
   "metadata": {},
   "outputs": [],
   "source": [
    "loaded_data = load_data(\"usage/method_reps/US/MPG_p_op_1\")###################################################"
   ]
  },
  {
   "cell_type": "code",
   "execution_count": null,
   "metadata": {},
   "outputs": [],
   "source": [
    "N_loaded = json_graph.node_link_graph(loaded_data[\"network_data\"])\n",
    "users = [user for user in loaded_data[\"users\"]] # users = [tuple(user) for user in loaded_data[\"users\"]]\n",
    "min_usage = 0.3\n",
    "\n",
    "num_removed = remove_nodes(N_loaded, min_usage, users)\n",
    "\n",
    "print(num_removed)\n",
    "\n",
    "reset_graph_state(N_loaded)\n",
    "reset_graph_usage(N_loaded)"
   ]
  },
  {
   "cell_type": "code",
   "execution_count": null,
   "metadata": {},
   "outputs": [],
   "source": [
    "timesteps = 5000\n",
    "reps = 1000\n",
    "protocol = MPG_protocol ##################################\n",
    "er, multipartite_gen_time, links_used = protocol(N_loaded, users, timesteps, reps, count_fusion=True)\n",
    "print(er)"
   ]
  },
  {
   "cell_type": "code",
   "execution_count": null,
   "metadata": {},
   "outputs": [],
   "source": [
    "draw_network(N_loaded, \"m\", layout=saved_layout)\n",
    "plt.savefig(\"figures_HS/Removing Repeaters/usage_remove_US_MPG_p_op_1.png\", dpi=600, bbox_inches=\"tight\")##########################"
   ]
  },
  {
   "cell_type": "code",
   "execution_count": null,
   "metadata": {},
   "outputs": [],
   "source": [
    "data_to_save = {\n",
    "    \"min_usage\": min_usage,\n",
    "    \"num_removed\": num_removed,\n",
    "    \"protocol\": str(protocol).split(\" \")[1],\n",
    "    \"Mesh_topologies\": loaded_data[\"Mesh_topologies\"],\n",
    "    \"Q_c\": loaded_data[\"Q_c\"],\n",
    "    \"p_op\": loaded_data[\"p_op\"],\n",
    "    \"loss_dB\": loaded_data[\"loss_dB\"],\n",
    "    \"timesteps\": timesteps,\n",
    "    \"reps\": reps,\n",
    "    \"users\": users,\n",
    "    \"ER\": er,\n",
    "    \"links_used\": links_used,\n",
    "    \"network_data\": json_graph.node_link_data(N_loaded),\n",
    "}\n",
    "\n",
    "save_data(\"remove_repeaters/usage/US/MPG_p_op_1_mu0.3\", data_to_save)########################################"
   ]
  },
  {
   "cell_type": "markdown",
   "metadata": {},
   "source": [
    "## Cut-off range"
   ]
  },
  {
   "cell_type": "code",
   "execution_count": null,
   "metadata": {},
   "outputs": [],
   "source": [
    "# loaded_data = load_data(\"usage/method_reps/25x25/MPG_L1\")\n",
    "loaded_data = load_data(\"usage/method_reps/US/MPG_p_op_1\")####################################################"
   ]
  },
  {
   "cell_type": "code",
   "execution_count": null,
   "metadata": {},
   "outputs": [],
   "source": [
    "timesteps = 5000\n",
    "reps = 1000\n",
    "protocol = MPG_protocol\n",
    "users = [user for user in loaded_data[\"users\"]]\n",
    "\n",
    "min_usage_range = np.linspace(0, 0.3, 31)\n",
    "num_removed = np.zeros(len(min_usage_range), dtype=int)\n",
    "ER = np.zeros(len(min_usage_range))\n",
    "links_used = np.zeros(len(min_usage_range))\n",
    "\n",
    "for i, min_usage in enumerate(tqdm.tqdm(min_usage_range)):  # tqdm_notebook\n",
    "    N_loaded = json_graph.node_link_graph(loaded_data[\"network_data\"])\n",
    "\n",
    "    removed = remove_nodes(N_loaded, min_usage, users)\n",
    "    num_removed[i] = removed\n",
    "\n",
    "    reset_graph_state(N_loaded)\n",
    "    reset_graph_usage(N_loaded)\n",
    "\n",
    "    er, multipartite_gen_time, links = protocol(N_loaded, users, timesteps, reps, count_fusion=True)\n",
    "    ER[i] = er\n",
    "    links_used[i] = links"
   ]
  },
  {
   "cell_type": "markdown",
   "metadata": {},
   "source": [
    "### Plot "
   ]
  },
  {
   "cell_type": "code",
   "execution_count": null,
   "metadata": {},
   "outputs": [],
   "source": [
    "plot_removed_repeaters(\n",
    "    min_usage_range,\n",
    "    ER,\n",
    "    num_removed,\n",
    "    loaded_data[\"ER\"],\n",
    ")\n",
    "# plt.savefig(\"figures_HS/removed_repeaters.png\", dpi=600, bbox_inches=\"tight\")"
   ]
  },
  {
   "cell_type": "markdown",
   "metadata": {},
   "source": [
    "### Save"
   ]
  },
  {
   "cell_type": "code",
   "execution_count": null,
   "metadata": {},
   "outputs": [],
   "source": [
    "data_to_save = {\n",
    "    \"min_usage_range\": min_usage_range.tolist(),\n",
    "    \"num_removed\": num_removed.tolist(),\n",
    "    \"protocol\": str(protocol).split(\" \")[1],\n",
    "    \"Mesh_topologies\": loaded_data[\"Mesh_topologies\"],\n",
    "    \"Q_c\": loaded_data[\"Q_c\"],\n",
    "    \"p_op\": loaded_data[\"p_op\"],\n",
    "    \"loss_dB\": loaded_data[\"loss_dB\"],\n",
    "    \"timesteps\": timesteps,\n",
    "    \"reps\": reps,\n",
    "    \"users\": users,\n",
    "    \"ER\": ER.tolist(),\n",
    "    \"base_ER\": loaded_data[\"ER\"],\n",
    "    \"links_used\": links_used.tolist(),\n",
    "}\n",
    "\n",
    "save_data(\"remove_repeaters/usage/US/MPG_range\", data_to_save)#############################################"
   ]
  },
  {
   "cell_type": "markdown",
   "metadata": {},
   "source": [
    "### Load and plot"
   ]
  },
  {
   "cell_type": "code",
   "execution_count": null,
   "metadata": {},
   "outputs": [],
   "source": [
    "loaded_removed_data = load_data(\"remove_repeaters/usage/US/MPG_range\")#####################################"
   ]
  },
  {
   "cell_type": "code",
   "execution_count": null,
   "metadata": {},
   "outputs": [],
   "source": [
    "plot_removed_repeaters(\n",
    "    loaded_removed_data[\"min_usage_range\"],\n",
    "    loaded_removed_data[\"ER\"],\n",
    "    loaded_removed_data[\"num_removed\"],\n",
    "    loaded_removed_data[\"base_ER\"],\n",
    ")\n",
    "plt.savefig(\"figures_HS/removed_repeaters_US_MPG.png\", dpi=600, bbox_inches=\"tight\")#########################"
   ]
  },
  {
   "cell_type": "markdown",
   "metadata": {},
   "source": [
    "## ER v Operation "
   ]
  },
  {
   "cell_type": "code",
   "execution_count": null,
   "metadata": {},
   "outputs": [],
   "source": [
    "loaded_data = load_data(\"usage/method_reps/US/MPG_p_op_1\")##################################################"
   ]
  },
  {
   "cell_type": "code",
   "execution_count": null,
   "metadata": {},
   "outputs": [],
   "source": [
    "timesteps = 1000\n",
    "reps = 200\n",
    "protocol = MPG_protocol\n",
    "# p_op = loaded_data[\"p_op\"]\n",
    "loss_dB = loaded_data[\"loss_dB\"]\n",
    "users = [user for user in loaded_data[\"users\"]]\n",
    "\n",
    "min_usage_options = np.array([0, 0.03, 0.1, 0.2, 0.3])\n",
    "num_removed = np.zeros(len(min_usage_options), dtype=int)\n",
    "\n",
    "p_op_range = np.linspace(0, 1, 100)\n",
    "ER = np.zeros((len(min_usage_options), len(p_op_range)))\n",
    "links_used = np.zeros((len(min_usage_options), len(p_op_range)))\n",
    "\n",
    "for i, min_usage in enumerate(min_usage_options):  \n",
    "    N_loaded = json_graph.node_link_graph(loaded_data[\"network_data\"])\n",
    "    removed = remove_nodes(N_loaded, min_usage, users)\n",
    "    num_removed[i] = removed\n",
    "\n",
    "    for j, p_op in enumerate(tqdm.tqdm(p_op_range)):  # tqdm_notebook\n",
    "        set_p_edge(N_loaded, p_op, loss_dB=loss_dB)\n",
    "        reset_graph_state(N_loaded)\n",
    "        reset_graph_usage(N_loaded)\n",
    "\n",
    "        # if (length > 17):\n",
    "        #     break\n",
    "\n",
    "        er, multipartite_gen_time, links = protocol(N_loaded, users, timesteps=timesteps, reps=reps, count_fusion=True)\n",
    "        ER[i, j] += er\n",
    "        links_used[i, j] = links"
   ]
  },
  {
   "cell_type": "code",
   "execution_count": null,
   "metadata": {},
   "outputs": [],
   "source": [
    "data_to_save = {\n",
    "    \"min_usage_options\": min_usage_options.tolist(),\n",
    "    \"num_removed\": num_removed.tolist(),\n",
    "    \"protocol\": str(protocol).split(\" \")[1],\n",
    "    \"Mesh_topologies\": loaded_data[\"Mesh_topologies\"],\n",
    "    \"Q_c\": loaded_data[\"Q_c\"],\n",
    "    \"loss_dB\": loaded_data[\"loss_dB\"],\n",
    "    \"timesteps\": timesteps,\n",
    "    \"reps\": reps,\n",
    "    \"users\": users,\n",
    "    \"datapoints\": p_op_range.size,\n",
    "    \"p_op_range\": p_op_range.tolist(),\n",
    "    \"ER\": ER.tolist(),\n",
    "    \"links_used\": links_used.tolist(),\n",
    "}\n",
    "\n",
    "save_data(\"remove_repeaters/DR_p_op/US/MPG\", data_to_save)#######################################################"
   ]
  },
  {
   "cell_type": "code",
   "execution_count": null,
   "metadata": {},
   "outputs": [],
   "source": [
    "ER_len_data = load_data(\"remove_repeaters/DR_p_op/US/MPG\")#######################################################"
   ]
  },
  {
   "cell_type": "code",
   "execution_count": null,
   "metadata": {},
   "outputs": [],
   "source": [
    "plot_er_p_op(num_removed, ER, loss_dB=loaded_data[\"loss_dB\"], p_op=p_op_range, x_lim=1)\n",
    "# plot_er_len(ER_len_data[\"num_removed\"], ER_len_data[\"ER\"], ER_len_data[\"length_range\"], loss_dB=ER_len_data[\"loss_dB\"], p_op=ER_len_data[\"p_op\"], x_lim=30)\n",
    "plt.savefig(\"figures_HS/DR_v_p_op_US_MPG.png\", dpi=600, bbox_inches=\"tight\")#######################################"
   ]
  }
 ],
 "metadata": {
  "kernelspec": {
   "display_name": "base",
   "language": "python",
   "name": "python3"
  },
  "language_info": {
   "codemirror_mode": {
    "name": "ipython",
    "version": 3
   },
   "file_extension": ".py",
   "mimetype": "text/x-python",
   "name": "python",
   "nbconvert_exporter": "python",
   "pygments_lexer": "ipython3",
   "version": "3.11.5"
  }
 },
 "nbformat": 4,
 "nbformat_minor": 2
}
